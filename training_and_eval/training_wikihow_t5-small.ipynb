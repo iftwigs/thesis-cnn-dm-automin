{
  "nbformat": 4,
  "nbformat_minor": 0,
  "metadata": {
    "colab": {
      "name": "thesis_alternate_archs",
      "provenance": [],
      "collapsed_sections": [],
      "machine_shape": "hm",
      "authorship_tag": "ABX9TyMuYVXarsHxdyu5rvpO8VSV",
      "include_colab_link": true
    },
    "kernelspec": {
      "name": "python3",
      "display_name": "Python 3"
    },
    "language_info": {
      "name": "python"
    },
    "accelerator": "GPU"
  },
  "cells": [
    {
      "cell_type": "markdown",
      "metadata": {
        "id": "view-in-github",
        "colab_type": "text"
      },
      "source": [
        "<a href=\"https://colab.research.google.com/github/iftwigs/thesis-cnn-dm-automin/blob/main/training_and_eval/training_wikihow_t5-small.ipynb\" target=\"_parent\"><img src=\"https://colab.research.google.com/assets/colab-badge.svg\" alt=\"Open In Colab\"/></a>"
      ]
    },
    {
      "cell_type": "code",
      "metadata": {
        "colab": {
          "base_uri": "https://localhost:8080/"
        },
        "id": "GnbMchK1JmWn",
        "outputId": "1a000cdb-e605-45ba-ec70-6c48354fe6e3"
      },
      "source": [
        "!git clone https://github.com/huggingface/transformers.git"
      ],
      "execution_count": null,
      "outputs": [
        {
          "output_type": "stream",
          "text": [
            "Cloning into 'transformers'...\n",
            "remote: Enumerating objects: 73567, done.\u001b[K\n",
            "remote: Total 73567 (delta 0), reused 0 (delta 0), pack-reused 73567\u001b[K\n",
            "Receiving objects: 100% (73567/73567), 56.45 MiB | 27.41 MiB/s, done.\n",
            "Resolving deltas: 100% (52326/52326), done.\n"
          ],
          "name": "stdout"
        }
      ]
    },
    {
      "cell_type": "code",
      "metadata": {
        "colab": {
          "base_uri": "https://localhost:8080/"
        },
        "id": "H1d-gahGJ1XY",
        "outputId": "544df210-6e2b-4e93-8fc9-e17bd54e4edb"
      },
      "source": [
        "!pip install datasets sacremoses sentencepiece sacrebleu bleu rouge rouge_score"
      ],
      "execution_count": null,
      "outputs": [
        {
          "output_type": "stream",
          "text": [
            "Collecting datasets\n",
            "\u001b[?25l  Downloading https://files.pythonhosted.org/packages/94/f8/ff7cd6e3b400b33dcbbfd31c6c1481678a2b2f669f521ad20053009a9aa3/datasets-1.7.0-py3-none-any.whl (234kB)\n",
            "\u001b[K     |████████████████████████████████| 235kB 6.7MB/s \n",
            "\u001b[?25hCollecting sacremoses\n",
            "\u001b[?25l  Downloading https://files.pythonhosted.org/packages/75/ee/67241dc87f266093c533a2d4d3d69438e57d7a90abb216fa076e7d475d4a/sacremoses-0.0.45-py3-none-any.whl (895kB)\n",
            "\u001b[K     |████████████████████████████████| 901kB 10.8MB/s \n",
            "\u001b[?25hCollecting sentencepiece\n",
            "\u001b[?25l  Downloading https://files.pythonhosted.org/packages/f5/99/e0808cb947ba10f575839c43e8fafc9cc44e4a7a2c8f79c60db48220a577/sentencepiece-0.1.95-cp37-cp37m-manylinux2014_x86_64.whl (1.2MB)\n",
            "\u001b[K     |████████████████████████████████| 1.2MB 23.1MB/s \n",
            "\u001b[?25hCollecting sacrebleu\n",
            "\u001b[?25l  Downloading https://files.pythonhosted.org/packages/7e/57/0c7ca4e31a126189dab99c19951910bd081dea5bbd25f24b77107750eae7/sacrebleu-1.5.1-py3-none-any.whl (54kB)\n",
            "\u001b[K     |████████████████████████████████| 61kB 7.2MB/s \n",
            "\u001b[?25hCollecting bleu\n",
            "  Downloading https://files.pythonhosted.org/packages/ae/df/4fd9bfe6dc240a1760f8e95ca41aa31382e328e31de45145f528dab5c7f8/bleu-0.3.tar.gz\n",
            "Collecting rouge\n",
            "  Downloading https://files.pythonhosted.org/packages/43/cc/e18e33be20971ff73a056ebdb023476b5a545e744e3fc22acd8c758f1e0d/rouge-1.0.0-py3-none-any.whl\n",
            "Collecting rouge_score\n",
            "  Downloading https://files.pythonhosted.org/packages/1f/56/a81022436c08b9405a5247b71635394d44fe7e1dbedc4b28c740e09c2840/rouge_score-0.0.4-py2.py3-none-any.whl\n",
            "Collecting fsspec\n",
            "\u001b[?25l  Downloading https://files.pythonhosted.org/packages/bc/52/816d1a3a599176057bf29dfacb1f8fadb61d35fbd96cb1bab4aaa7df83c0/fsspec-2021.5.0-py3-none-any.whl (111kB)\n",
            "\u001b[K     |████████████████████████████████| 112kB 37.9MB/s \n",
            "\u001b[?25hCollecting huggingface-hub<0.1.0\n",
            "  Downloading https://files.pythonhosted.org/packages/32/a1/7c5261396da23ec364e296a4fb8a1cd6a5a2ff457215c6447038f18c0309/huggingface_hub-0.0.9-py3-none-any.whl\n",
            "Requirement already satisfied: numpy>=1.17 in /usr/local/lib/python3.7/dist-packages (from datasets) (1.19.5)\n",
            "Requirement already satisfied: tqdm<4.50.0,>=4.27 in /usr/local/lib/python3.7/dist-packages (from datasets) (4.41.1)\n",
            "Requirement already satisfied: pyarrow<4.0.0,>=1.0.0 in /usr/local/lib/python3.7/dist-packages (from datasets) (3.0.0)\n",
            "Requirement already satisfied: multiprocess in /usr/local/lib/python3.7/dist-packages (from datasets) (0.70.11.1)\n",
            "Requirement already satisfied: dill in /usr/local/lib/python3.7/dist-packages (from datasets) (0.3.3)\n",
            "Requirement already satisfied: importlib-metadata; python_version < \"3.8\" in /usr/local/lib/python3.7/dist-packages (from datasets) (4.0.1)\n",
            "Collecting xxhash\n",
            "\u001b[?25l  Downloading https://files.pythonhosted.org/packages/7d/4f/0a862cad26aa2ed7a7cd87178cbbfa824fc1383e472d63596a0d018374e7/xxhash-2.0.2-cp37-cp37m-manylinux2010_x86_64.whl (243kB)\n",
            "\u001b[K     |████████████████████████████████| 245kB 36.6MB/s \n",
            "\u001b[?25hRequirement already satisfied: packaging in /usr/local/lib/python3.7/dist-packages (from datasets) (20.9)\n",
            "Requirement already satisfied: requests>=2.19.0 in /usr/local/lib/python3.7/dist-packages (from datasets) (2.23.0)\n",
            "Requirement already satisfied: pandas in /usr/local/lib/python3.7/dist-packages (from datasets) (1.1.5)\n",
            "Requirement already satisfied: click in /usr/local/lib/python3.7/dist-packages (from sacremoses) (7.1.2)\n",
            "Requirement already satisfied: six in /usr/local/lib/python3.7/dist-packages (from sacremoses) (1.15.0)\n",
            "Requirement already satisfied: regex in /usr/local/lib/python3.7/dist-packages (from sacremoses) (2019.12.20)\n",
            "Requirement already satisfied: joblib in /usr/local/lib/python3.7/dist-packages (from sacremoses) (1.0.1)\n",
            "Collecting portalocker==2.0.0\n",
            "  Downloading https://files.pythonhosted.org/packages/89/a6/3814b7107e0788040870e8825eebf214d72166adf656ba7d4bf14759a06a/portalocker-2.0.0-py2.py3-none-any.whl\n",
            "Collecting efficiency\n",
            "  Downloading https://files.pythonhosted.org/packages/34/c9/ecc9958e1ca22b5e060a2685405e27c44aaf921e53e3318136fff5ed60e2/efficiency-0.5.tar.gz\n",
            "Requirement already satisfied: absl-py in /usr/local/lib/python3.7/dist-packages (from rouge_score) (0.12.0)\n",
            "Requirement already satisfied: nltk in /usr/local/lib/python3.7/dist-packages (from rouge_score) (3.2.5)\n",
            "Requirement already satisfied: filelock in /usr/local/lib/python3.7/dist-packages (from huggingface-hub<0.1.0->datasets) (3.0.12)\n",
            "Requirement already satisfied: typing-extensions in /usr/local/lib/python3.7/dist-packages (from huggingface-hub<0.1.0->datasets) (3.7.4.3)\n",
            "Requirement already satisfied: zipp>=0.5 in /usr/local/lib/python3.7/dist-packages (from importlib-metadata; python_version < \"3.8\"->datasets) (3.4.1)\n",
            "Requirement already satisfied: pyparsing>=2.0.2 in /usr/local/lib/python3.7/dist-packages (from packaging->datasets) (2.4.7)\n",
            "Requirement already satisfied: certifi>=2017.4.17 in /usr/local/lib/python3.7/dist-packages (from requests>=2.19.0->datasets) (2020.12.5)\n",
            "Requirement already satisfied: urllib3!=1.25.0,!=1.25.1,<1.26,>=1.21.1 in /usr/local/lib/python3.7/dist-packages (from requests>=2.19.0->datasets) (1.24.3)\n",
            "Requirement already satisfied: idna<3,>=2.5 in /usr/local/lib/python3.7/dist-packages (from requests>=2.19.0->datasets) (2.10)\n",
            "Requirement already satisfied: chardet<4,>=3.0.2 in /usr/local/lib/python3.7/dist-packages (from requests>=2.19.0->datasets) (3.0.4)\n",
            "Requirement already satisfied: pytz>=2017.2 in /usr/local/lib/python3.7/dist-packages (from pandas->datasets) (2018.9)\n",
            "Requirement already satisfied: python-dateutil>=2.7.3 in /usr/local/lib/python3.7/dist-packages (from pandas->datasets) (2.8.1)\n",
            "Requirement already satisfied: spacy in /usr/local/lib/python3.7/dist-packages (from efficiency->bleu) (2.2.4)\n",
            "Requirement already satisfied: blis<0.5.0,>=0.4.0 in /usr/local/lib/python3.7/dist-packages (from spacy->efficiency->bleu) (0.4.1)\n",
            "Requirement already satisfied: catalogue<1.1.0,>=0.0.7 in /usr/local/lib/python3.7/dist-packages (from spacy->efficiency->bleu) (1.0.0)\n",
            "Requirement already satisfied: srsly<1.1.0,>=1.0.2 in /usr/local/lib/python3.7/dist-packages (from spacy->efficiency->bleu) (1.0.5)\n",
            "Requirement already satisfied: plac<1.2.0,>=0.9.6 in /usr/local/lib/python3.7/dist-packages (from spacy->efficiency->bleu) (1.1.3)\n",
            "Requirement already satisfied: murmurhash<1.1.0,>=0.28.0 in /usr/local/lib/python3.7/dist-packages (from spacy->efficiency->bleu) (1.0.5)\n",
            "Requirement already satisfied: setuptools in /usr/local/lib/python3.7/dist-packages (from spacy->efficiency->bleu) (56.1.0)\n",
            "Requirement already satisfied: wasabi<1.1.0,>=0.4.0 in /usr/local/lib/python3.7/dist-packages (from spacy->efficiency->bleu) (0.8.2)\n",
            "Requirement already satisfied: preshed<3.1.0,>=3.0.2 in /usr/local/lib/python3.7/dist-packages (from spacy->efficiency->bleu) (3.0.5)\n",
            "Requirement already satisfied: cymem<2.1.0,>=2.0.2 in /usr/local/lib/python3.7/dist-packages (from spacy->efficiency->bleu) (2.0.5)\n",
            "Requirement already satisfied: thinc==7.4.0 in /usr/local/lib/python3.7/dist-packages (from spacy->efficiency->bleu) (7.4.0)\n",
            "Building wheels for collected packages: bleu, efficiency\n",
            "  Building wheel for bleu (setup.py) ... \u001b[?25l\u001b[?25hdone\n",
            "  Created wheel for bleu: filename=bleu-0.3-cp37-none-any.whl size=5802 sha256=6f9212fc02326b0aca9046e98c49c855610d3bfc376668293d7e30fcb7bdf3a8\n",
            "  Stored in directory: /root/.cache/pip/wheels/a9/95/e7/cb43a1c509c38fedbee6223963e34a51a94d8991f3b3e1888e\n",
            "  Building wheel for efficiency (setup.py) ... \u001b[?25l\u001b[?25hdone\n",
            "  Created wheel for efficiency: filename=efficiency-0.5-cp37-none-any.whl size=20285 sha256=2469224a18ba68ad0101a6d88dc0c955450eb2deaca05f777299b112de41ceb8\n",
            "  Stored in directory: /root/.cache/pip/wheels/94/fd/e6/2d34e80768fb2d001fc35b033a48114b1afdb6ea020b4cb2c7\n",
            "Successfully built bleu efficiency\n",
            "Installing collected packages: fsspec, huggingface-hub, xxhash, datasets, sacremoses, sentencepiece, portalocker, sacrebleu, efficiency, bleu, rouge, rouge-score\n",
            "Successfully installed bleu-0.3 datasets-1.7.0 efficiency-0.5 fsspec-2021.5.0 huggingface-hub-0.0.9 portalocker-2.0.0 rouge-1.0.0 rouge-score-0.0.4 sacrebleu-1.5.1 sacremoses-0.0.45 sentencepiece-0.1.95 xxhash-2.0.2\n"
          ],
          "name": "stdout"
        }
      ]
    },
    {
      "cell_type": "code",
      "metadata": {
        "colab": {
          "base_uri": "https://localhost:8080/"
        },
        "id": "oWDRDIWjKABM",
        "outputId": "ff77c70f-a032-4d58-d712-c4f76f36e903"
      },
      "source": [
        "cd transformers/"
      ],
      "execution_count": null,
      "outputs": [
        {
          "output_type": "stream",
          "text": [
            "/content/transformers\n"
          ],
          "name": "stdout"
        }
      ]
    },
    {
      "cell_type": "code",
      "metadata": {
        "colab": {
          "base_uri": "https://localhost:8080/"
        },
        "id": "3qKWA3ShKMFY",
        "outputId": "6f5935ed-e596-40ff-c14a-1506fe504918"
      },
      "source": [
        "!python examples/pytorch/summarization/run_summarization.py \\\n",
        "    --model_name_or_path 'deep-learning-analytics/wikihow-t5-small' \\\n",
        "    --do_train \\\n",
        "    --do_eval \\\n",
        "    --do_predict \\\n",
        "    --train_file /content/drive/MyDrive/automin_processed/train_automin.csv \\\n",
        "    --validation_file /content/drive/MyDrive/automin_processed/val_automin.csv \\\n",
        "    --test_file /content/drive/MyDrive/automin_processed/test_automin.csv \\\n",
        "    --output_dir /content/drive/MyDrive/t5-base-automin \\\n",
        "    --per_device_train_batch_size=4 \\\n",
        "    --per_device_eval_batch_size=4 \\\n",
        "    --num_train_epochs=10 \\\n",
        "    --overwrite_output_dir \\\n",
        "    --predict_with_generate"
      ],
      "execution_count": null,
      "outputs": [
        {
          "output_type": "stream",
          "text": [
            "2021-05-27 20:04:45.790851: I tensorflow/stream_executor/platform/default/dso_loader.cc:53] Successfully opened dynamic library libcudart.so.11.0\n",
            "05/27/2021 20:04:47 - WARNING - __main__ -   Process rank: -1, device: cuda:0, n_gpu: 1distributed training: False, 16-bits training: False\n",
            "05/27/2021 20:04:47 - INFO - __main__ -   Training/evaluation parameters Seq2SeqTrainingArguments(output_dir='/content/drive/MyDrive/t5-base-automin', overwrite_output_dir=True, do_train=True, do_eval=True, do_predict=True, evaluation_strategy=<IntervalStrategy.NO: 'no'>, prediction_loss_only=False, per_device_train_batch_size=4, per_device_eval_batch_size=4, per_gpu_train_batch_size=None, per_gpu_eval_batch_size=None, gradient_accumulation_steps=1, eval_accumulation_steps=None, learning_rate=5e-05, weight_decay=0.0, adam_beta1=0.9, adam_beta2=0.999, adam_epsilon=1e-08, max_grad_norm=1.0, num_train_epochs=10.0, max_steps=-1, lr_scheduler_type=<SchedulerType.LINEAR: 'linear'>, warmup_ratio=0.0, warmup_steps=0, logging_dir='runs/May27_20-04-47_afac9a338376', logging_strategy=<IntervalStrategy.STEPS: 'steps'>, logging_first_step=False, logging_steps=500, save_strategy=<IntervalStrategy.STEPS: 'steps'>, save_steps=500, save_total_limit=None, no_cuda=False, seed=42, fp16=False, fp16_opt_level='O1', fp16_backend='auto', fp16_full_eval=False, local_rank=-1, tpu_num_cores=None, tpu_metrics_debug=False, debug=[], dataloader_drop_last=False, eval_steps=500, dataloader_num_workers=0, past_index=-1, run_name='/content/drive/MyDrive/t5-base-automin', disable_tqdm=False, remove_unused_columns=True, label_names=None, load_best_model_at_end=False, metric_for_best_model=None, greater_is_better=None, ignore_data_skip=False, sharded_ddp=[], deepspeed=None, label_smoothing_factor=0.0, adafactor=False, group_by_length=False, length_column_name='length', report_to=['tensorboard'], ddp_find_unused_parameters=None, dataloader_pin_memory=True, skip_memory_metrics=True, use_legacy_prediction_loop=False, push_to_hub=False, resume_from_checkpoint=None, log_on_each_node=True, mp_parameters='', sortish_sampler=False, predict_with_generate=True)\n",
            "05/27/2021 20:04:47 - WARNING - datasets.builder -   Using custom data configuration default-8f2b4e3cae78ab30\n",
            "05/27/2021 20:04:47 - WARNING - datasets.builder -   Reusing dataset csv (/root/.cache/huggingface/datasets/csv/default-8f2b4e3cae78ab30/0.0.0/2dc6629a9ff6b5697d82c25b73731dd440507a69cbce8b425db50b751e8fcfd0)\n",
            "https://huggingface.co/deep-learning-analytics/wikihow-t5-small/resolve/main/config.json not found in cache or force_download set to True, downloading to /root/.cache/huggingface/transformers/tmpmgua2sbq\n",
            "Downloading: 100% 736/736 [00:00<00:00, 491kB/s]\n",
            "storing https://huggingface.co/deep-learning-analytics/wikihow-t5-small/resolve/main/config.json in cache at /root/.cache/huggingface/transformers/a1963641f0a35f5cbfd03033325f351ebcca2828b2091fefbdf4ecf6756c4f70.ad026d2c4ffacb56edda0cbe2f092ae28a63d13f3bd3fb5737ce58e46daa314c\n",
            "creating metadata file for /root/.cache/huggingface/transformers/a1963641f0a35f5cbfd03033325f351ebcca2828b2091fefbdf4ecf6756c4f70.ad026d2c4ffacb56edda0cbe2f092ae28a63d13f3bd3fb5737ce58e46daa314c\n",
            "loading configuration file https://huggingface.co/deep-learning-analytics/wikihow-t5-small/resolve/main/config.json from cache at /root/.cache/huggingface/transformers/a1963641f0a35f5cbfd03033325f351ebcca2828b2091fefbdf4ecf6756c4f70.ad026d2c4ffacb56edda0cbe2f092ae28a63d13f3bd3fb5737ce58e46daa314c\n",
            "Model config T5Config {\n",
            "  \"architectures\": [\n",
            "    \"T5ForConditionalGeneration\"\n",
            "  ],\n",
            "  \"d_ff\": 2048,\n",
            "  \"d_kv\": 64,\n",
            "  \"d_model\": 512,\n",
            "  \"decoder_start_token_id\": 0,\n",
            "  \"dropout_rate\": 0.1,\n",
            "  \"eos_token_id\": 1,\n",
            "  \"feed_forward_proj\": \"relu\",\n",
            "  \"gradient_checkpointing\": false,\n",
            "  \"initializer_factor\": 1.0,\n",
            "  \"is_encoder_decoder\": true,\n",
            "  \"layer_norm_epsilon\": 1e-06,\n",
            "  \"model_type\": \"t5\",\n",
            "  \"n_positions\": 512,\n",
            "  \"num_decoder_layers\": 6,\n",
            "  \"num_heads\": 8,\n",
            "  \"num_layers\": 6,\n",
            "  \"output_past\": true,\n",
            "  \"pad_token_id\": 0,\n",
            "  \"relative_attention_num_buckets\": 32,\n",
            "  \"save_step\": 0,\n",
            "  \"task_specific_params\": {\n",
            "    \"summarization\": {\n",
            "      \"early_stopping\": true,\n",
            "      \"length_penalty\": 2.0,\n",
            "      \"max_length\": 200,\n",
            "      \"min_length\": 30,\n",
            "      \"no_repeat_ngram_size\": 3,\n",
            "      \"num_beams\": 4,\n",
            "      \"prefix\": \"summarize: \"\n",
            "    }\n",
            "  },\n",
            "  \"transformers_version\": \"4.7.0.dev0\",\n",
            "  \"use_cache\": true,\n",
            "  \"vocab_size\": 32128\n",
            "}\n",
            "\n",
            "loading configuration file https://huggingface.co/deep-learning-analytics/wikihow-t5-small/resolve/main/config.json from cache at /root/.cache/huggingface/transformers/a1963641f0a35f5cbfd03033325f351ebcca2828b2091fefbdf4ecf6756c4f70.ad026d2c4ffacb56edda0cbe2f092ae28a63d13f3bd3fb5737ce58e46daa314c\n",
            "Model config T5Config {\n",
            "  \"architectures\": [\n",
            "    \"T5ForConditionalGeneration\"\n",
            "  ],\n",
            "  \"d_ff\": 2048,\n",
            "  \"d_kv\": 64,\n",
            "  \"d_model\": 512,\n",
            "  \"decoder_start_token_id\": 0,\n",
            "  \"dropout_rate\": 0.1,\n",
            "  \"eos_token_id\": 1,\n",
            "  \"feed_forward_proj\": \"relu\",\n",
            "  \"gradient_checkpointing\": false,\n",
            "  \"initializer_factor\": 1.0,\n",
            "  \"is_encoder_decoder\": true,\n",
            "  \"layer_norm_epsilon\": 1e-06,\n",
            "  \"model_type\": \"t5\",\n",
            "  \"n_positions\": 512,\n",
            "  \"num_decoder_layers\": 6,\n",
            "  \"num_heads\": 8,\n",
            "  \"num_layers\": 6,\n",
            "  \"output_past\": true,\n",
            "  \"pad_token_id\": 0,\n",
            "  \"relative_attention_num_buckets\": 32,\n",
            "  \"save_step\": 0,\n",
            "  \"task_specific_params\": {\n",
            "    \"summarization\": {\n",
            "      \"early_stopping\": true,\n",
            "      \"length_penalty\": 2.0,\n",
            "      \"max_length\": 200,\n",
            "      \"min_length\": 30,\n",
            "      \"no_repeat_ngram_size\": 3,\n",
            "      \"num_beams\": 4,\n",
            "      \"prefix\": \"summarize: \"\n",
            "    }\n",
            "  },\n",
            "  \"transformers_version\": \"4.7.0.dev0\",\n",
            "  \"use_cache\": true,\n",
            "  \"vocab_size\": 32128\n",
            "}\n",
            "\n",
            "https://huggingface.co/deep-learning-analytics/wikihow-t5-small/resolve/main/spiece.model not found in cache or force_download set to True, downloading to /root/.cache/huggingface/transformers/tmpv6baz4ky\n",
            "Downloading: 100% 792k/792k [00:00<00:00, 3.98MB/s]\n",
            "storing https://huggingface.co/deep-learning-analytics/wikihow-t5-small/resolve/main/spiece.model in cache at /root/.cache/huggingface/transformers/850519797afb2600169fbdc53c0fb8593a5f7fb0f61a9a6ea8a48295be077c7f.3b69006860e7b5d0a63ffdddc01ddcd6b7c318a6f4fd793596552c741734c62d\n",
            "creating metadata file for /root/.cache/huggingface/transformers/850519797afb2600169fbdc53c0fb8593a5f7fb0f61a9a6ea8a48295be077c7f.3b69006860e7b5d0a63ffdddc01ddcd6b7c318a6f4fd793596552c741734c62d\n",
            "https://huggingface.co/deep-learning-analytics/wikihow-t5-small/resolve/main/special_tokens_map.json not found in cache or force_download set to True, downloading to /root/.cache/huggingface/transformers/tmpjxpxzq52\n",
            "Downloading: 100% 1.79k/1.79k [00:00<00:00, 1.22MB/s]\n",
            "storing https://huggingface.co/deep-learning-analytics/wikihow-t5-small/resolve/main/special_tokens_map.json in cache at /root/.cache/huggingface/transformers/302b3a83967ba1e2b8bf0f16a9ef1310ed9de98a582f8b3f5fd5a049c278c6f3.c94798918c92ded6aeef2d2f0e666d2cc4145eca1aa6e1336fde07f2e13e2f46\n",
            "creating metadata file for /root/.cache/huggingface/transformers/302b3a83967ba1e2b8bf0f16a9ef1310ed9de98a582f8b3f5fd5a049c278c6f3.c94798918c92ded6aeef2d2f0e666d2cc4145eca1aa6e1336fde07f2e13e2f46\n",
            "https://huggingface.co/deep-learning-analytics/wikihow-t5-small/resolve/main/tokenizer_config.json not found in cache or force_download set to True, downloading to /root/.cache/huggingface/transformers/tmpm8jlm42n\n",
            "Downloading: 100% 25.0/25.0 [00:00<00:00, 17.3kB/s]\n",
            "storing https://huggingface.co/deep-learning-analytics/wikihow-t5-small/resolve/main/tokenizer_config.json in cache at /root/.cache/huggingface/transformers/10e58dd5cd49a4112e3a6096cc1862244aefdb6c4f382dc89f4c549df5ef7655.024cc07195c0ba0b51d4f80061c6115996ff26233f3d04788855b23cdf13fbd5\n",
            "creating metadata file for /root/.cache/huggingface/transformers/10e58dd5cd49a4112e3a6096cc1862244aefdb6c4f382dc89f4c549df5ef7655.024cc07195c0ba0b51d4f80061c6115996ff26233f3d04788855b23cdf13fbd5\n",
            "loading file https://huggingface.co/deep-learning-analytics/wikihow-t5-small/resolve/main/spiece.model from cache at /root/.cache/huggingface/transformers/850519797afb2600169fbdc53c0fb8593a5f7fb0f61a9a6ea8a48295be077c7f.3b69006860e7b5d0a63ffdddc01ddcd6b7c318a6f4fd793596552c741734c62d\n",
            "loading file https://huggingface.co/deep-learning-analytics/wikihow-t5-small/resolve/main/added_tokens.json from cache at None\n",
            "loading file https://huggingface.co/deep-learning-analytics/wikihow-t5-small/resolve/main/special_tokens_map.json from cache at /root/.cache/huggingface/transformers/302b3a83967ba1e2b8bf0f16a9ef1310ed9de98a582f8b3f5fd5a049c278c6f3.c94798918c92ded6aeef2d2f0e666d2cc4145eca1aa6e1336fde07f2e13e2f46\n",
            "loading file https://huggingface.co/deep-learning-analytics/wikihow-t5-small/resolve/main/tokenizer_config.json from cache at /root/.cache/huggingface/transformers/10e58dd5cd49a4112e3a6096cc1862244aefdb6c4f382dc89f4c549df5ef7655.024cc07195c0ba0b51d4f80061c6115996ff26233f3d04788855b23cdf13fbd5\n",
            "loading file https://huggingface.co/deep-learning-analytics/wikihow-t5-small/resolve/main/tokenizer.json from cache at None\n",
            "https://huggingface.co/deep-learning-analytics/wikihow-t5-small/resolve/main/pytorch_model.bin not found in cache or force_download set to True, downloading to /root/.cache/huggingface/transformers/tmpy59v64b9\n",
            "Downloading: 100% 242M/242M [00:06<00:00, 38.2MB/s]\n",
            "storing https://huggingface.co/deep-learning-analytics/wikihow-t5-small/resolve/main/pytorch_model.bin in cache at /root/.cache/huggingface/transformers/81c54e8ad5fd682ef27f180fc0c8cf626815abf0d7c41824f79bbb355ffb1ea6.1c3bc2308cef3431c64d0941adfe0c4dfd46473dd7ed3eaf04dd2463d6b7bed6\n",
            "creating metadata file for /root/.cache/huggingface/transformers/81c54e8ad5fd682ef27f180fc0c8cf626815abf0d7c41824f79bbb355ffb1ea6.1c3bc2308cef3431c64d0941adfe0c4dfd46473dd7ed3eaf04dd2463d6b7bed6\n",
            "loading weights file https://huggingface.co/deep-learning-analytics/wikihow-t5-small/resolve/main/pytorch_model.bin from cache at /root/.cache/huggingface/transformers/81c54e8ad5fd682ef27f180fc0c8cf626815abf0d7c41824f79bbb355ffb1ea6.1c3bc2308cef3431c64d0941adfe0c4dfd46473dd7ed3eaf04dd2463d6b7bed6\n",
            "All model checkpoint weights were used when initializing T5ForConditionalGeneration.\n",
            "\n",
            "All the weights of T5ForConditionalGeneration were initialized from the model checkpoint at deep-learning-analytics/wikihow-t5-small.\n",
            "If your task is similar to the task the model of the checkpoint was trained on, you can already use T5ForConditionalGeneration for predictions without further training.\n",
            "100% 1/1 [00:30<00:00, 30.35s/ba]\n",
            "100% 1/1 [00:02<00:00,  2.67s/ba]\n",
            "100% 1/1 [00:04<00:00,  4.73s/ba]\n",
            "***** Running training *****\n",
            "  Num examples = 85\n",
            "  Num Epochs = 10\n",
            "  Instantaneous batch size per device = 4\n",
            "  Total train batch size (w. parallel, distributed & accumulation) = 4\n",
            "  Gradient Accumulation steps = 1\n",
            "  Total optimization steps = 220\n",
            "100% 220/220 [00:59<00:00,  4.30it/s]\n",
            "\n",
            "Training completed. Do not forget to share your model on huggingface.co/models =)\n",
            "\n",
            "\n",
            "{'train_runtime': 59.0537, 'train_samples_per_second': 14.394, 'train_steps_per_second': 3.725, 'epoch': 10.0}\n",
            "100% 220/220 [00:59<00:00,  3.73it/s]\n",
            "Saving model checkpoint to /content/drive/MyDrive/t5-base-automin\n",
            "Configuration saved in /content/drive/MyDrive/t5-base-automin/config.json\n",
            "Model weights saved in /content/drive/MyDrive/t5-base-automin/pytorch_model.bin\n",
            "tokenizer config file saved in /content/drive/MyDrive/t5-base-automin/tokenizer_config.json\n",
            "Special tokens file saved in /content/drive/MyDrive/t5-base-automin/special_tokens_map.json\n",
            "Copy vocab file to /content/drive/MyDrive/t5-base-automin/spiece.model\n",
            "***** train metrics *****\n",
            "  epoch                    =       10.0\n",
            "  train_runtime            = 0:00:59.05\n",
            "  train_samples            =         85\n",
            "  train_samples_per_second =     14.394\n",
            "  train_steps_per_second   =      3.725\n",
            "05/27/2021 20:06:43 - INFO - __main__ -   *** Evaluate ***\n",
            "***** Running Evaluation *****\n",
            "  Num examples = 10\n",
            "  Batch size = 4\n",
            "100% 3/3 [00:05<00:00,  1.76s/it]\n",
            "***** eval metrics *****\n",
            "  epoch                   =       10.0\n",
            "  eval_gen_len            =      121.8\n",
            "  eval_loss               =     3.2814\n",
            "  eval_rouge1             =     9.2502\n",
            "  eval_rouge2             =     0.4151\n",
            "  eval_rougeL             =     8.0085\n",
            "  eval_rougeLsum          =     7.5067\n",
            "  eval_runtime            = 0:00:06.91\n",
            "  eval_samples            =         10\n",
            "  eval_samples_per_second =      1.445\n",
            "  eval_steps_per_second   =      0.434\n",
            "05/27/2021 20:06:50 - INFO - __main__ -   *** Predict ***\n",
            "***** Running Prediction *****\n",
            "  Num examples = 18\n",
            "  Batch size = 4\n",
            "100% 5/5 [00:06<00:00,  1.38s/it]***** predict metrics *****\n",
            "  predict_gen_len            =   122.6111\n",
            "  predict_loss               =     3.6606\n",
            "  predict_rouge1             =     6.6297\n",
            "  predict_rouge2             =     0.3775\n",
            "  predict_rougeL             =     5.2887\n",
            "  predict_rougeLsum          =     5.3102\n",
            "  predict_runtime            = 0:00:11.70\n",
            "  predict_samples            =         18\n",
            "  predict_samples_per_second =      1.537\n",
            "  predict_steps_per_second   =      0.427\n",
            "100% 5/5 [00:11<00:00,  2.25s/it]\n"
          ],
          "name": "stdout"
        }
      ]
    },
    {
      "cell_type": "code",
      "metadata": {
        "id": "MN6wQiwPajBj"
      },
      "source": [
        ""
      ],
      "execution_count": null,
      "outputs": []
    }
  ]
}